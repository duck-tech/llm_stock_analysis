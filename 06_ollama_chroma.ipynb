{
 "cells": [
  {
   "cell_type": "markdown",
   "metadata": {},
   "source": [
    "# Ollama local LLM \n",
    "因語言模型的免費次數上限, 我們在這邊安裝一個本地的LLM"
   ]
  },
  {
   "cell_type": "code",
   "execution_count": 1,
   "metadata": {},
   "outputs": [
    {
     "name": "stderr",
     "output_type": "stream",
     "text": [
      "/Users/babyching/Documents/personal/LLM/從LangChain接入ChatGPT到製作股票分析AI團隊/.venv/lib/python3.9/site-packages/urllib3/__init__.py:35: NotOpenSSLWarning: urllib3 v2 only supports OpenSSL 1.1.1+, currently the 'ssl' module is compiled with 'LibreSSL 2.8.3'. See: https://github.com/urllib3/urllib3/issues/3020\n",
      "  warnings.warn(\n"
     ]
    }
   ],
   "source": [
    "from langchain.llms import Ollama\n",
    "\n",
    "chat = Ollama(model=\"openchat:latest\")"
   ]
  },
  {
   "cell_type": "code",
   "execution_count": 2,
   "metadata": {},
   "outputs": [],
   "source": [
    "from langchain.document_loaders import PyPDFLoader\n",
    "loaders = [\n",
    "    PyPDFLoader(\"docs/01.pdf\"),\n",
    "    PyPDFLoader(\"docs/02.pdf\"),\n",
    "    PyPDFLoader(\"docs/03.pdf\"),\n",
    "    PyPDFLoader(\"docs/04.pdf\"),\n",
    "]\n",
    "\n",
    "docs = []\n",
    "\n",
    "for loader in loaders:\n",
    "    docs.extend(loader.load())\n",
    "\n",
    "\n",
    "from langchain.text_splitter import RecursiveCharacterTextSplitter\n",
    "\n",
    "text_splitter = RecursiveCharacterTextSplitter(\n",
    "    chunk_size = 1000,\n",
    "    chunk_overlap=100,\n",
    "    length_function = len,\n",
    "    separators=[\"\\n\\n\", '\\n', ' ', '']\n",
    "    )\n",
    "\n",
    "splits = text_splitter.split_documents(docs)\n",
    "\n",
    "from langchain_openai import OpenAIEmbeddings\n",
    "import os\n",
    "embeddings = OpenAIEmbeddings(\n",
    "    base_url = os.environ[\"EMBEDDINGS_BASE_URL\"]\n",
    ")\n",
    "\n",
    "from langchain.vectorstores import Chroma\n",
    "persist_directory = \"./db\"\n",
    "!rm -rf ./db\n",
    "vectordb = Chroma.from_documents(\n",
    "    documents = splits,\n",
    "    embedding = embeddings,\n",
    "    persist_directory = persist_directory\n",
    ")"
   ]
  },
  {
   "cell_type": "code",
   "execution_count": 3,
   "metadata": {},
   "outputs": [],
   "source": [
    "from langchain.retrievers.self_query.base import SelfQueryRetriever\n",
    "from langchain.chains.query_constructor.base import AttributeInfo\n",
    "\n",
    "metadata_field_info = [\n",
    "    AttributeInfo(name=\"source\", description=\"搜索的資訊來源於以下三個PDF文黨`docs/01.pdf`, `docs/03.pdf`, `docs/04.pdf`\",type=\"string\",),\n",
    "    AttributeInfo(name=\"page\", description=\"資訊來源的頁面\",type=\"integer\",)\n",
    "]\n",
    "\n",
    "document_content_description = \"這裡存放的是關於香港特色旅遊勝地以及美食和特有文化\"\n",
    "retriever = SelfQueryRetriever.from_llm(\n",
    "    llm=chat,\n",
    "    vectorstore=vectordb,\n",
    "    document_contents=document_content_description,\n",
    "    metadata_field_info = metadata_field_info,\n",
    ")"
   ]
  },
  {
   "cell_type": "code",
   "execution_count": 7,
   "metadata": {},
   "outputs": [
    {
     "name": "stdout",
     "output_type": "stream",
     "text": [
      "{'page': 6, 'source': 'docs/04.pdf'}\n",
      "{'page': 3, 'source': 'docs/01.pdf'}\n",
      "{'page': 7, 'source': 'docs/03.pdf'}\n",
      "{'page': 7, 'source': 'docs/04.pdf'}\n"
     ]
    }
   ],
   "source": [
    "question = \"介紹一下香港特色美食？\"\n",
    "\n",
    "docs = retriever.invoke(question, k=5)\n",
    "\n",
    "for doc in docs:\n",
    "    print(doc.metadata)"
   ]
  },
  {
   "cell_type": "markdown",
   "metadata": {},
   "source": [
    "### Summary Chroma information"
   ]
  },
  {
   "cell_type": "code",
   "execution_count": 9,
   "metadata": {},
   "outputs": [],
   "source": [
    "from langchain.retrievers import ContextualCompressionRetriever\n",
    "from langchain.retrievers.document_compressors import LLMChainExtractor\n",
    "\n",
    "compressor = LLMChainExtractor.from_llm(chat)\n",
    "\n",
    "compression_retriever = ContextualCompressionRetriever(\n",
    "    base_retriever = vectordb.as_retriever(),\n",
    "    base_compressor= compressor,\n",
    ")"
   ]
  },
  {
   "cell_type": "code",
   "execution_count": 13,
   "metadata": {},
   "outputs": [
    {
     "name": "stderr",
     "output_type": "stream",
     "text": [
      "/Users/babyching/Documents/personal/LLM/從LangChain接入ChatGPT到製作股票分析AI團隊/.venv/lib/python3.9/site-packages/langchain/chains/llm.py:316: UserWarning: The predict_and_parse method is deprecated, instead pass an output parser directly to LLMChain.\n",
      "  warnings.warn(\n",
      "/Users/babyching/Documents/personal/LLM/從LangChain接入ChatGPT到製作股票分析AI團隊/.venv/lib/python3.9/site-packages/langchain/chains/llm.py:316: UserWarning: The predict_and_parse method is deprecated, instead pass an output parser directly to LLMChain.\n",
      "  warnings.warn(\n",
      "/Users/babyching/Documents/personal/LLM/從LangChain接入ChatGPT到製作股票分析AI團隊/.venv/lib/python3.9/site-packages/langchain/chains/llm.py:316: UserWarning: The predict_and_parse method is deprecated, instead pass an output parser directly to LLMChain.\n",
      "  warnings.warn(\n",
      "/Users/babyching/Documents/personal/LLM/從LangChain接入ChatGPT到製作股票分析AI團隊/.venv/lib/python3.9/site-packages/langchain/chains/llm.py:316: UserWarning: The predict_and_parse method is deprecated, instead pass an output parser directly to LLMChain.\n",
      "  warnings.warn(\n"
     ]
    },
    {
     "name": "stdout",
     "output_type": "stream",
     "text": [
      "\n",
      "\n",
      "第1個檢索:\n",
      "\n",
      "介紹一下西貢優美景色\n",
      "相片提供：TUGO CHENG\n",
      "海灘及小島\n",
      "感受腳底的柔軟白沙和清澈海水，環顧周圍趣怪\n",
      "的野生動物，這樣的香港或許會讓你意想不到。\n",
      "西貢隱身於香港僻靜的一隅，擁有純淨無污染的\n",
      "海灘。沿著郊野公園遠足攀山，西貢的美景盡收\n",
      "眼底；你也可以從西貢市中心的西貢公眾碼頭搭\n",
      "乘街渡（即小型渡輪），闖進另一番天地。\n",
      "另外，西貢還有大大小小的島嶼，數不清的幽靜景\n",
      "點俯拾皆是，絕對值得花上一天仔細探索。\n",
      "\n",
      "------------------------------------------------------------\n",
      "\n",
      "第2個檢索:\n",
      "\n",
      "位於新界最東端的西貢，既沒有櫛比鱗次的摩天大廈，也不見五光十色的霓虹燈，有「香港後花園」之稱。依山傍海的美景，悠閒的氛圍，讓這裡成為在地人的度假勝地。\n",
      "\n",
      "------------------------------------------------------------\n",
      "\n",
      "第3個檢索:\n",
      "\n",
      "西貢擁有五花百門的美食，讓你品嚐到不同的異國料理，每一條街道各有味道，由街頭小吃到米其林星級體驗，應有盡有。\n"
     ]
    }
   ],
   "source": [
    "question = \"介紹一下西貢優美景色\"\n",
    "\n",
    "compressed_docs = compression_retriever.invoke(question)\n",
    "\n",
    "def pretty_print_docs(docs):\n",
    "    print(\n",
    "        f\"\\n\\n{'-' * 60}\".join([f\"\\n\\n第{i+1}個檢索:\\n\\n\" + d.page_content for i, d in enumerate(docs)])\n",
    "    )\n",
    "\n",
    "pretty_print_docs(compressed_docs)"
   ]
  },
  {
   "cell_type": "code",
   "execution_count": 14,
   "metadata": {},
   "outputs": [
    {
     "name": "stderr",
     "output_type": "stream",
     "text": [
      "/Users/babyching/Documents/personal/LLM/從LangChain接入ChatGPT到製作股票分析AI團隊/.venv/lib/python3.9/site-packages/langchain/chains/llm.py:316: UserWarning: The predict_and_parse method is deprecated, instead pass an output parser directly to LLMChain.\n",
      "  warnings.warn(\n",
      "/Users/babyching/Documents/personal/LLM/從LangChain接入ChatGPT到製作股票分析AI團隊/.venv/lib/python3.9/site-packages/langchain/chains/llm.py:316: UserWarning: The predict_and_parse method is deprecated, instead pass an output parser directly to LLMChain.\n",
      "  warnings.warn(\n",
      "/Users/babyching/Documents/personal/LLM/從LangChain接入ChatGPT到製作股票分析AI團隊/.venv/lib/python3.9/site-packages/langchain/chains/llm.py:316: UserWarning: The predict_and_parse method is deprecated, instead pass an output parser directly to LLMChain.\n",
      "  warnings.warn(\n",
      "/Users/babyching/Documents/personal/LLM/從LangChain接入ChatGPT到製作股票分析AI團隊/.venv/lib/python3.9/site-packages/langchain/chains/llm.py:316: UserWarning: The predict_and_parse method is deprecated, instead pass an output parser directly to LLMChain.\n",
      "  warnings.warn(\n"
     ]
    },
    {
     "name": "stdout",
     "output_type": "stream",
     "text": [
      "\n",
      "\n",
      "第1個檢索:\n",
      "\n",
      "恆發雞蛋仔開在九龍城的，靠著別出心裁的鮮果入餡功夫，吸引大批食客，周潤發、朱茵等明星也愛這一味。 \"原味雞蛋仔\" 蛋味香濃，但恆發最拿手的是夾心雞蛋仔，芋頭、紅豆、南瓜、紫薯、芝麻入餡都不算稀奇，最厲害的是號稱全香港首創的鮮果夾心，夾的還是新鮮的金枕頭榴槤果肉。\n",
      "\n",
      "------------------------------------------------------------\n",
      "\n",
      "第2個檢索:\n",
      "\n",
      "好吃的蛋塔在泰昌餅家，地址中環擺花街35號。\n",
      "\n",
      "------------------------------------------------------------\n",
      "\n",
      "第3個檢索:\n",
      "\n",
      "金樺餅店曾被選為香港最好吃的蛋塔也正在出爐。位置：太安樓地下A34D號舖，營業時間：08 ： 45～22 ： 00\n",
      "\n",
      "------------------------------------------------------------\n",
      "\n",
      "第4個檢索:\n",
      "\n",
      "地址：香港銅鑼灣告士打道310號27樓 （香港柏寧鉑爾曼酒店）  電話：＋852-2839-3327\n",
      "營業時間：（雞尾酒供應） 12 ： 00～凌晨00 ： 30 交通：港鐵銅鑼灣站 E 出口步行3分鐘\n",
      "Skye\n",
      "1.  必吃甜點 「港式奶茶焦糖燉蛋、焦糖脆餅」 不只\n",
      "外型復古，奶味也很香濃。 （港幣100元／份）\n",
      "2.  提供小酌靈感的星座調酒系列很受遊客歡迎。\n",
      "（港幣120元／杯）\n",
      "3.  若想點硬派調酒，也能點杯 「Negroni」 試試調\n",
      "酒師手藝。 （港幣140元／杯）\n"
     ]
    }
   ],
   "source": [
    "compression_retriever = ContextualCompressionRetriever(\n",
    "    base_retriever = vectordb.as_retriever(search_type=\"mmr\"), # 改變搜索方式\n",
    "    base_compressor= compressor,\n",
    ")\n",
    "\n",
    "question = \"香港哪裡有最好吃的蛋塔? 如果有,請提供該店舖的地址\"\n",
    "\n",
    "compressed_docs = compression_retriever.invoke(question)\n",
    "pretty_print_docs(compressed_docs)"
   ]
  },
  {
   "cell_type": "code",
   "execution_count": null,
   "metadata": {},
   "outputs": [],
   "source": []
  }
 ],
 "metadata": {
  "kernelspec": {
   "display_name": ".venv",
   "language": "python",
   "name": "python3"
  },
  "language_info": {
   "codemirror_mode": {
    "name": "ipython",
    "version": 3
   },
   "file_extension": ".py",
   "mimetype": "text/x-python",
   "name": "python",
   "nbconvert_exporter": "python",
   "pygments_lexer": "ipython3",
   "version": "3.9.6"
  }
 },
 "nbformat": 4,
 "nbformat_minor": 2
}
