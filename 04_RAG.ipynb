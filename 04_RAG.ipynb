{
 "cells": [
  {
   "cell_type": "markdown",
   "metadata": {},
   "source": [
    "# RAG Retrieval-Augmented Generation\n",
    "- Retrieval: 從外部來源檢索最新的訊息\n",
    "- Aufmented: 增強補充模型現有知識\n",
    "- Generation: 生成回覆"
   ]
  },
  {
   "cell_type": "code",
   "execution_count": 1,
   "metadata": {},
   "outputs": [],
   "source": [
    "import os \n",
    "import logging \n",
    "\n",
    "from dotenv import load_dotenv, find_dotenv\n",
    "\n",
    "load_dotenv(find_dotenv())\n",
    "api_key = os.environ.get('OPENAI_API_KEY')\n",
    "if api_key is None:\n",
    "    raise ValueError(\"The OPENAI_API_KEY environment variable is not set.\")"
   ]
  },
  {
   "cell_type": "code",
   "execution_count": 2,
   "metadata": {},
   "outputs": [
    {
     "name": "stderr",
     "output_type": "stream",
     "text": [
      "/Users/babyching/Documents/personal/LLM/從LangChain接入ChatGPT到製作股票分析AI團隊/.venv/lib/python3.9/site-packages/urllib3/__init__.py:35: NotOpenSSLWarning: urllib3 v2 only supports OpenSSL 1.1.1+, currently the 'ssl' module is compiled with 'LibreSSL 2.8.3'. See: https://github.com/urllib3/urllib3/issues/3020\n",
      "  warnings.warn(\n"
     ]
    }
   ],
   "source": [
    "import os \n",
    "from langchain_openai import ChatOpenAI\n",
    "chat = ChatOpenAI(\n",
    "    openai_api_base=os.environ[\"CHATGPT_API_ENDPOINT\"],\n",
    "    openai_api_key=os.environ[\"OPENAI_API_KEY\"])"
   ]
  },
  {
   "cell_type": "markdown",
   "metadata": {},
   "source": [
    "## 讀取PDF"
   ]
  },
  {
   "cell_type": "code",
   "execution_count": 6,
   "metadata": {},
   "outputs": [],
   "source": [
    "from langchain.document_loaders import PyPDFLoader\n",
    "\n",
    "loader = PyPDFLoader(\"ML-guide.pdf\")"
   ]
  },
  {
   "cell_type": "code",
   "execution_count": 12,
   "metadata": {},
   "outputs": [
    {
     "name": "stdout",
     "output_type": "stream",
     "text": [
      "22\n",
      "MachineLearning-Lecture01  \n",
      "Instructor (Andrew Ng): Okay. Good morning. Welcome to CS229, the machine \n",
      "learning class. So what I wanna do today is just spend a little time going over the logistics \n",
      "of the class, and then we'll start to talk a bit about machine learning.  \n",
      "By way of introduction, my name's Andrew Ng and I'll be instructor for this class. And so \n",
      "I personally work in machine learning, and I've worked on it for about 15 years now, and \n",
      "I actually think that machine learning is the \n",
      "{'source': 'ML-guide.pdf', 'page': 0}\n"
     ]
    }
   ],
   "source": [
    "pages = loader.load()\n",
    "print(len(pages))\n",
    "page = pages[0]\n",
    "print(page.page_content[:500])\n",
    "print(page.metadata)"
   ]
  },
  {
   "cell_type": "markdown",
   "metadata": {},
   "source": [
    "## Search website information\n",
    "- langchain WebBaseLoader\n",
    "- serper: Get 2500 free"
   ]
  },
  {
   "cell_type": "code",
   "execution_count": 13,
   "metadata": {},
   "outputs": [],
   "source": [
    "from langchain.document_loaders import WebBaseLoader"
   ]
  },
  {
   "cell_type": "code",
   "execution_count": 14,
   "metadata": {},
   "outputs": [],
   "source": [
    "loader = WebBaseLoader(\"https://google.com\")"
   ]
  },
  {
   "cell_type": "code",
   "execution_count": 19,
   "metadata": {},
   "outputs": [
    {
     "name": "stdout",
     "output_type": "stream",
     "text": [
      "Google搜尋圖片地圖PlayYouTube新聞Gmail雲端硬碟更多日曆翻譯圖書購物Blogger財經相片文件更多 »Account Options登入搜尋設定網頁記錄 進階搜尋Google 提供：  English 廣告商業解決方案關於 GoogleGoogle.com.tw© 2024 - 隱私權 - 服務條款   \n"
     ]
    }
   ],
   "source": [
    "docs = loader.load()\n",
    "print(docs[0].page_content)"
   ]
  },
  {
   "cell_type": "code",
   "execution_count": 24,
   "metadata": {},
   "outputs": [
    {
     "name": "stdout",
     "output_type": "stream",
     "text": [
      "{\"searchParameters\":{\"q\":\"apple inc\",\"hl\":\"zh-tw\",\"type\":\"news\",\"engine\":\"google\"},\"news\":[{\"title\":\"Apple Intelligence has arrived. Here's how to update your device to get it\",\"link\":\"https://www.foxbusiness.com/technology/apple-intelligence-has-arrived-heres-how-update-your-device-get\",\"snippet\":\"Apple's inaugural batch of Apple Intelligence features debuted on Monday for eligible devices. It comes after the company first announced...\",\"date\":\"2 天前\",\"source\":\"Fox Business\",\"imageUrl\":\"https://encrypted-tbn0.gstatic.com/images?q=tbn:ANd9GcT5LbetDTaaDgWmlf0WdqpqqwshUlEHzFQZrM53c_9g19SfxQi94bhj3jNUvQ&s\",\"position\":1},{\"title\":\"Apple Set to Report Q4 Earnings: Buy, Sell or Hold the Stock?\",\"link\":\"https://finance.yahoo.com/news/apple-set-report-q4-earnings-164600386.html\",\"snippet\":\"AAPL's fourth-quarter fiscal 2024 results are likely to reflect strong services growth despite unfavorable forex and sluggish Mac shipments.\",\"date\":\"1 天前\",\"source\":\"Yahoo Finance\",\"imageUrl\":\"https://encrypted-tbn0.gstatic.com/images?q=tbn:ANd9GcRgBANh54qI5-59zgpnbfZfKcjyPht31uEne0SmtqvH5-l3r-00i2l8bKQU8w&s\",\"position\":2},{\"title\":\"When is iOS 18.1 being released? What to know about Apple's newest operating system\",\"link\":\"https://www.nbcnewyork.com/news/local/ios-18-1-release-date-time-apple-download-iphone/5929917/\",\"snippet\":\"Apple is releasing iOS 18.1 with Apple Intelligence today. Here's how to download and more to know.\",\"date\":\"2 天前\",\"source\":\"NBC New York\",\"imageUrl\":\"https://encrypted-tbn0.gstatic.com/images?q=tbn:ANd9GcQPdO2FgG28B4m7V9j6Wigg0XYNfLODd4XR9G7bsL7b6UTQ6pk2Nuyk8m5Lxw&s\",\"position\":3},{\"title\":\"Apple (APPL) Ships $6 Billion of iPhones From India in Big China Shift\",\"link\":\"https://www.bloomberg.com/news/articles/2024-10-29/apple-ships-6-billion-of-iphones-from-india-in-big-china-shift\",\"snippet\":\"Apple Inc.'s iPhone exports from India jumped by a third in the six months through September, underscoring its push to expand manufacturing...\",\"date\":\"2 天前\",\"source\":\"Bloomberg.com\",\"imageUrl\":\"https://encrypted-tbn0.gstatic.com/images?q=tbn:ANd9GcTpI_zhbUCrSn73d295dnCeOpcp47tmRhtl_Elgsb3VEsA-3chOKl_8_XpDPA&s\",\"position\":4},{\"title\":\"The 10 Best Features of Apple Intelligence in iOS 18.1\",\"link\":\"https://www.inc.com/jason-aten/the-10-best-features-of-apple-intelligence-in-ios-18-1/90995947\",\"snippet\":\"Apple Intelligence is here. These are the best things you can do with it right now.\",\"date\":\"1 天前\",\"source\":\"Inc.com\",\"imageUrl\":\"https://encrypted-tbn0.gstatic.com/images?q=tbn:ANd9GcSOnIPg-KiDD1d4a2QkIVPQKNWqvkPVvSU776QLiLDEPpONzar4cOvPae7tRA&s\",\"position\":5},{\"title\":\"What The Tech: Apple Intelligence\",\"link\":\"https://www.ktbs.com/entertainment/what-the-tech-apple-intelligence/article_357b5750-96ac-11ef-9e65-afa39878ceeb.html\",\"snippet\":\"Apple Intelligence: A Game-Changer for iPhone Users. The long-awaited Apple Intelligence update has finally arrived, and it's living up to...\",\"date\":\"16 小時前\",\"source\":\"KTBS\",\"imageUrl\":\"https://encrypted-tbn0.gstatic.com/images?q=tbn:ANd9GcSBd8UVEAz_7jz7sWGEmCGwtAq9Hm1QdRtt-3u8NN59Q8dhUZIL8CYeg-PEtA&s\",\"position\":6},{\"title\":\"Apple, Amazon, Intel set to report earnings Thursday\",\"link\":\"https://www.investing.com/news/stock-market-news/-93CH-3692048\",\"snippet\":\"Earnings season continues as we highlight companies expected to report earnings the next trading day, allowing investors to prepare for the...\",\"date\":\"16 小時前\",\"source\":\"Investing.com\",\"imageUrl\":\"https://encrypted-tbn0.gstatic.com/images?q=tbn:ANd9GcRRQaj5AQjM20LocT9ek1edSrhzNdb9YQSn7tarxpBatMouZZIru8owoqq4ug&s\",\"position\":7},{\"title\":\"Apple's AI update: What to know about Apple Intelligence, top features\",\"link\":\"https://www.usatoday.com/story/tech/2024/10/28/apple-intelligence-ai-top-features-ios-18-1/75842775007/\",\"snippet\":\"The first Apple Intelligence features are rolling out, after months of anticipation, in the latest update for supported iPhone, iPad and Mac...\",\"date\":\"2 天前\",\"source\":\"USA Today\",\"imageUrl\":\"https://encrypted-tbn0.gstatic.com/images?q=tbn:ANd9GcQpN1FkNCcka-tcqFPLACwoPBndsFTEuwkNwIDSY8A9FVhp4oYFuuK589Y_8A&s\",\"position\":8},{\"title\":\"Apple (AAPL) Expands Global Reach of Apple Vision Pro Amid Marke\",\"link\":\"https://www.gurufocus.com/news/2574895/apple-aapl-expands-global-reach-of-apple-vision-pro-amid-market-challenges\",\"snippet\":\"Apple Inc. is advancing the global presence of its high-end mixed reality headset, the Apple Vision Pro. The company's Senior Vice President...\",\"date\":\"6 小時前\",\"source\":\"GuruFocus\",\"imageUrl\":\"https://encrypted-tbn0.gstatic.com/images?q=tbn:ANd9GcRqK1NhAwF7IBvLUnHjSTe-P1LLY-T-uzSjU8SWNlX20mDAc9NtJdNEkwYX9g&s\",\"position\":9},{\"title\":\"Apple Inc. stock underperforms Wednesday when compared to competitors\",\"link\":\"https://www.marketwatch.com/data-news/apple-inc-stock-underperforms-wednesday-when-compared-to-competitors-202fc0cc-8a6a22252c36\",\"snippet\":\"shed 1.53% to $230.10 Wednesday, on what proved to be an all-around grim trading session for the stock market, with the NASDAQ Composite...\",\"date\":\"14 小時前\",\"source\":\"MarketWatch\",\"imageUrl\":\"https://encrypted-tbn0.gstatic.com/images?q=tbn:ANd9GcSUVDJiuT-xZ9eB59ueyUzYl4h7vcuYdmQ1YWoTsPcI564Q951Acpbf_pN6cw&s\",\"position\":10}],\"credits\":1}\n"
     ]
    }
   ],
   "source": [
    "import requests\n",
    "import json\n",
    "load_dotenv(find_dotenv())\n",
    "\n",
    "url = \"https://google.serper.dev/news\"\n",
    "\n",
    "payload = json.dumps({\n",
    "  \"q\": \"apple inc\",\n",
    "  \"hl\": \"zh-tw\"\n",
    "})\n",
    "headers = {\n",
    "  'X-API-KEY': os.environ[\"X_API_KEY\"],\n",
    "  'Content-Type': 'application/json'\n",
    "}\n",
    "\n",
    "response = requests.request(\"POST\", url, headers=headers, data=payload)\n",
    "\n",
    "print(response.text)"
   ]
  },
  {
   "cell_type": "markdown",
   "metadata": {},
   "source": [
    "## Text Splitter 文本分割器\n",
    "Q: Why\n",
    "- 因為需要把外部資訊整理添加到向量database\n",
    "- 使用者問問題, 用檢索的方式找出使用者要的相關內容!!!\n",
    "\n",
    "每一個小塊: chunk"
   ]
  },
  {
   "cell_type": "code",
   "execution_count": 31,
   "metadata": {},
   "outputs": [],
   "source": [
    "from langchain.text_splitter import RecursiveCharacterTextSplitter\n",
    "\n",
    "text_splitter = RecursiveCharacterTextSplitter(\n",
    "    chunk_size = 9,\n",
    "    chunk_overlap = 0\n",
    ")"
   ]
  },
  {
   "cell_type": "code",
   "execution_count": 32,
   "metadata": {},
   "outputs": [
    {
     "name": "stdout",
     "output_type": "stream",
     "text": [
      "['123456789']\n",
      "['123456789', '123456789']\n"
     ]
    }
   ],
   "source": [
    "text1 = \"123456789\"\n",
    "text2 = \"123456789123456789\"\n",
    "\n",
    "print(text_splitter.split_text(text1))\n",
    "print(text_splitter.split_text(text2))"
   ]
  },
  {
   "cell_type": "code",
   "execution_count": 38,
   "metadata": {},
   "outputs": [
    {
     "name": "stdout",
     "output_type": "stream",
     "text": [
      "['123456789']\n",
      "['123456789', '789123456', '456789']\n"
     ]
    }
   ],
   "source": [
    "text_splitter = RecursiveCharacterTextSplitter(\n",
    "    chunk_size = 9,\n",
    "    chunk_overlap = 3\n",
    ")\n",
    "print(text_splitter.split_text(text1))\n",
    "print(text_splitter.split_text(text2))"
   ]
  },
  {
   "cell_type": "code",
   "execution_count": 39,
   "metadata": {},
   "outputs": [
    {
     "name": "stdout",
     "output_type": "stream",
     "text": [
      "['This is a', 'a sample', 'text to', 'split.', 'It has', 'multiple', 'sentence', 'sentences', 'entences.']\n"
     ]
    }
   ],
   "source": [
    "text_splitter = RecursiveCharacterTextSplitter(\n",
    "    chunk_size = 9,\n",
    "    chunk_overlap = 9\n",
    ")\n",
    "text3 = \"This is a sample text to split. It has multiple sentences.\"\n",
    "print(text_splitter.split_text(text3))"
   ]
  },
  {
   "cell_type": "markdown",
   "metadata": {},
   "source": [
    "### PDF"
   ]
  },
  {
   "cell_type": "code",
   "execution_count": 45,
   "metadata": {},
   "outputs": [
    {
     "name": "stdout",
     "output_type": "stream",
     "text": [
      "22\n"
     ]
    },
    {
     "data": {
      "text/plain": [
       "\"MachineLearning-Lecture01  \\nInstructor (Andrew Ng): Okay. Good morning. Welcome to CS229, the machine \\nlearning class. So what I wanna do today is just spend a little time going over the logistics \\nof the class, and then we'll start to talk a bit about machine learning.  \\nBy way of introduction, my name's Andrew Ng and I'll be instructor for this class. And so \\nI personally work in machine learning, and I've worked on it for about 15 years now, and \\nI actually think that machine learning is the \""
      ]
     },
     "execution_count": 45,
     "metadata": {},
     "output_type": "execute_result"
    }
   ],
   "source": [
    "from langchain.document_loaders import PyPDFLoader\n",
    "\n",
    "loader = PyPDFLoader(\"ML-guide.pdf\")\n",
    "pages = loader.load()\n",
    "print(len(pages))\n",
    "pages[0].page_content[:500]"
   ]
  },
  {
   "cell_type": "code",
   "execution_count": 51,
   "metadata": {},
   "outputs": [
    {
     "data": {
      "text/plain": [
       "172"
      ]
     },
     "execution_count": 51,
     "metadata": {},
     "output_type": "execute_result"
    }
   ],
   "source": [
    "text_splitter = RecursiveCharacterTextSplitter(\n",
    "    chunk_size = 500,\n",
    "    chunk_overlap = 150,\n",
    "    length_function = len,\n",
    "    separators= [\"\\n\\n\",\"\\n\", \" \",\"\"]\n",
    ")\n",
    "docs = text_splitter.split_documents(pages)\n",
    "len(docs)"
   ]
  },
  {
   "cell_type": "code",
   "execution_count": 54,
   "metadata": {},
   "outputs": [
    {
     "data": {
      "text/plain": [
       "\"MachineLearning-Lecture01  \\nInstructor (Andrew Ng): Okay. Good morning. Welcome to CS229, the machine \\nlearning class. So what I wanna do today is just spend a little time going over the logistics \\nof the class, and then we'll start to talk a bit about machine learning.  \\nBy way of introduction, my name's Andrew Ng and I'll be instructor for this class. And so \\nI personally work in machine learning, and I've worked on it for about 15 years now, and\""
      ]
     },
     "execution_count": 54,
     "metadata": {},
     "output_type": "execute_result"
    }
   ],
   "source": [
    "docs[0].page_content"
   ]
  },
  {
   "cell_type": "code",
   "execution_count": 55,
   "metadata": {},
   "outputs": [
    {
     "data": {
      "text/plain": [
       "\"I personally work in machine learning, and I've worked on it for about 15 years now, and \\nI actually think that machine learning is the most exciting field of all the computer \\nsciences. So I'm actually always excited about teaching this class. Sometimes I actually \\nthink that machine learning is not only the most exciting thing in computer science, but \\nthe most exciting thing in all of human endeavor, so maybe a little bias there.\""
      ]
     },
     "execution_count": 55,
     "metadata": {},
     "output_type": "execute_result"
    }
   ],
   "source": [
    "docs[1].page_content"
   ]
  },
  {
   "cell_type": "markdown",
   "metadata": {},
   "source": [
    "### chunk 如何定義大小\n",
    "- 太大，可能會導致窗口問題\n",
    "- 太小，某些語句或段落的意義可能只在特定上下文中才明確\n",
    "- chunkviz: https://chunkviz.up.railway.app/"
   ]
  },
  {
   "cell_type": "code",
   "execution_count": 56,
   "metadata": {},
   "outputs": [],
   "source": [
    "import os \n",
    "from langchain_openai import ChatOpenAI\n",
    "chat = ChatOpenAI(\n",
    "    openai_api_base=os.environ[\"CHATGPT_API_ENDPOINT\"],\n",
    "    openai_api_key=os.environ[\"OPENAI_API_KEY\"])"
   ]
  },
  {
   "cell_type": "code",
   "execution_count": 67,
   "metadata": {},
   "outputs": [
    {
     "name": "stdout",
     "output_type": "stream",
     "text": [
      "2\n",
      "langchain.indexes.vectorstore.VectorstoreIndexCreator¶\n",
      "class langchain.indexes.vectorstore.VectorstoreIndexCreator[source]¶\n",
      "Bases: BaseModel\n",
      "Logic for creating indexes.\n",
      "Create a new model by parsing and validating input data from keyword arguments.\n",
      "Raises ValidationError if the input data cannot be parsed to form a valid model.\n",
      "param embedding: Embeddings [Optional]¶\n",
      "param text_splitter: TextSplitter [Optional]¶\n",
      "param vectorstore_cls: Type[VectorStore] = <class 'langchain_community.vectorstores.\n"
     ]
    }
   ],
   "source": [
    "from langchain.document_loaders import ReadTheDocsLoader\n",
    "\n",
    "loader = ReadTheDocsLoader(\"htmldocs\")\n",
    "docs = loader.load()\n",
    "print(len(docs))\n",
    "print(docs[0].page_content[:500])"
   ]
  },
  {
   "cell_type": "code",
   "execution_count": 61,
   "metadata": {},
   "outputs": [],
   "source": [
    "# gpt-3.5-turbo 4096 tokens: \n",
    "# If 4096 - (Input(Instruction + query + content) + output)\n",
    "# If Chunk nums = 5\n",
    "  # Chunk Size = 2000 / 5 = 400\n",
    "  # So Chunk Size <= 400\n",
    "  # Too Samll not meaningful\n",
    "  # Too big not efficent\n"
   ]
  },
  {
   "cell_type": "code",
   "execution_count": 64,
   "metadata": {},
   "outputs": [
    {
     "data": {
      "text/plain": [
       "<Encoding 'cl100k_base'>"
      ]
     },
     "execution_count": 64,
     "metadata": {},
     "output_type": "execute_result"
    }
   ],
   "source": [
    "import tiktoken\n",
    "\n",
    "tokenizer = tiktoken.encoding_for_model(\"gpt-3.5-turbo\") #分詞器\n",
    "tokenizer"
   ]
  },
  {
   "cell_type": "code",
   "execution_count": 69,
   "metadata": {},
   "outputs": [],
   "source": [
    "def token_count(text):\n",
    "    tokens = tokenizer.encode(\n",
    "        text, \n",
    "        disallowed_special = ()\n",
    "    )\n",
    "    return len(tokens)"
   ]
  },
  {
   "cell_type": "code",
   "execution_count": 72,
   "metadata": {},
   "outputs": [
    {
     "data": {
      "text/plain": [
       "[1538, 1605]"
      ]
     },
     "execution_count": 72,
     "metadata": {},
     "output_type": "execute_result"
    }
   ],
   "source": [
    "tokens = [token_count(doc.page_content) for doc in docs]\n",
    "tokens"
   ]
  },
  {
   "cell_type": "code",
   "execution_count": 73,
   "metadata": {},
   "outputs": [
    {
     "data": {
      "text/plain": [
       "5"
      ]
     },
     "execution_count": 73,
     "metadata": {},
     "output_type": "execute_result"
    }
   ],
   "source": [
    "from langchain.text_splitter import RecursiveCharacterTextSplitter\n",
    "text_splitter = RecursiveCharacterTextSplitter(\n",
    "    chunk_size = 400,\n",
    "    chunk_overlap = 20,\n",
    "    length_function = token_count,\n",
    "    separators= [\"\\n\\n\",\"\\n\", \" \",\"\"]\n",
    ")\n",
    "chunks = text_splitter.split_text(docs[0].page_content)\n",
    "len(chunks)"
   ]
  },
  {
   "cell_type": "code",
   "execution_count": 74,
   "metadata": {},
   "outputs": [
    {
     "data": {
      "text/plain": [
       "(383, 373, 345, 376, 105)"
      ]
     },
     "execution_count": 74,
     "metadata": {},
     "output_type": "execute_result"
    }
   ],
   "source": [
    "token_count(chunks[0]),token_count(chunks[1]),token_count(chunks[2]),token_count(chunks[3]),token_count(chunks[4]),"
   ]
  },
  {
   "cell_type": "code",
   "execution_count": 77,
   "metadata": {},
   "outputs": [
    {
     "data": {
      "text/plain": [
       "[\"langchain.indexes.vectorstore.VectorstoreIndexCreator¶\\nclass langchain.indexes.vectorstore.VectorstoreIndexCreator[source]¶\\nBases: BaseModel\\nLogic for creating indexes.\\nCreate a new model by parsing and validating input data from keyword arguments.\\nRaises ValidationError if the input data cannot be parsed to form a valid model.\\nparam embedding: Embeddings [Optional]¶\\nparam text_splitter: TextSplitter [Optional]¶\\nparam vectorstore_cls: Type[VectorStore] = <class 'langchain_community.vectorstores.inmemory.InMemoryVectorStore'>¶\\nparam vectorstore_kwargs: dict [Optional]¶\\nasync afrom_documents(documents: List[Document]) → VectorStoreIndexWrapper[source]¶\\nCreate a vectorstore index from documents.\\nParameters\\ndocuments (List[Document]) – \\nReturn type\\nVectorStoreIndexWrapper\\nasync afrom_loaders(loaders: List[BaseLoader]) → VectorStoreIndexWrapper[source]¶\\nCreate a vectorstore index from loaders.\\nParameters\\nloaders (List[BaseLoader]) – \\nReturn type\\nVectorStoreIndexWrapper\\nclassmethod construct(_fields_set: Optional[SetStr] = None, **values: Any) → Model¶\\nCreates a new model setting __dict__ and __fields_set__ from trusted or pre-validated data.\\nDefault values are respected, but no other validation is performed.\\nBehaves as if Config.extra = ‘allow’ was set since it adds all passed values\\nParameters\\n_fields_set (Optional[SetStr]) – \\nvalues (Any) – \\nReturn type\\nModel\\ncopy(*, include: Optional[Union[AbstractSetIntStr, MappingIntStrAny]] = None, exclude: Optional[Union[AbstractSetIntStr, MappingIntStrAny]] = None, update: Optional[DictStrAny] = None, deep: bool = False) → Model¶\",\n",
       " 'Duplicate a model, optionally choose which fields to include, exclude and change.\\nParameters\\ninclude (Optional[Union[AbstractSetIntStr, MappingIntStrAny]]) – fields to include in new model\\nexclude (Optional[Union[AbstractSetIntStr, MappingIntStrAny]]) – fields to exclude from new model, as with values this takes precedence over include\\nupdate (Optional[DictStrAny]) – values to change/add in the new model. Note: the data is not validated before creating\\nthe new model: you should trust this data\\ndeep (bool) – set to True to make a deep copy of the model\\nself (Model) – \\nReturns\\nnew model instance\\nReturn type\\nModel\\ndict(*, include: Optional[Union[AbstractSetIntStr, MappingIntStrAny]] = None, exclude: Optional[Union[AbstractSetIntStr, MappingIntStrAny]] = None, by_alias: bool = False, skip_defaults: Optional[bool] = None, exclude_unset: bool = False, exclude_defaults: bool = False, exclude_none: bool = False) → DictStrAny¶\\nGenerate a dictionary representation of the model, optionally specifying which fields to include or exclude.\\nParameters\\ninclude (Optional[Union[AbstractSetIntStr, MappingIntStrAny]]) – \\nexclude (Optional[Union[AbstractSetIntStr, MappingIntStrAny]]) – \\nby_alias (bool) – \\nskip_defaults (Optional[bool]) – \\nexclude_unset (bool) – \\nexclude_defaults (bool) – \\nexclude_none (bool) – \\nReturn type\\nDictStrAny\\nfrom_documents(documents: List[Document]) → VectorStoreIndexWrapper[source]¶\\nCreate a vectorstore index from documents.\\nParameters\\ndocuments (List[Document]) – \\nReturn type\\nVectorStoreIndexWrapper',\n",
       " 'Parameters\\ndocuments (List[Document]) – \\nReturn type\\nVectorStoreIndexWrapper\\nfrom_loaders(loaders: List[BaseLoader]) → VectorStoreIndexWrapper[source]¶\\nCreate a vectorstore index from loaders.\\nParameters\\nloaders (List[BaseLoader]) – \\nReturn type\\nVectorStoreIndexWrapper\\nclassmethod from_orm(obj: Any) → Model¶\\nParameters\\nobj (Any) – \\nReturn type\\nModel\\njson(*, include: Optional[Union[AbstractSetIntStr, MappingIntStrAny]] = None, exclude: Optional[Union[AbstractSetIntStr, MappingIntStrAny]] = None, by_alias: bool = False, skip_defaults: Optional[bool] = None, exclude_unset: bool = False, exclude_defaults: bool = False, exclude_none: bool = False, encoder: Optional[Callable[[Any], Any]] = None, models_as_dict: bool = True, **dumps_kwargs: Any) → unicode¶\\nGenerate a JSON representation of the model, include and exclude arguments as per dict().\\nencoder is an optional function to supply as default to json.dumps(), other arguments as per json.dumps().\\nParameters\\ninclude (Optional[Union[AbstractSetIntStr, MappingIntStrAny]]) – \\nexclude (Optional[Union[AbstractSetIntStr, MappingIntStrAny]]) – \\nby_alias (bool) – \\nskip_defaults (Optional[bool]) – \\nexclude_unset (bool) – \\nexclude_defaults (bool) – \\nexclude_none (bool) – \\nencoder (Optional[Callable[[Any], Any]]) – \\nmodels_as_dict (bool) – \\ndumps_kwargs (Any) – \\nReturn type\\nunicode',\n",
       " \"dumps_kwargs (Any) – \\nReturn type\\nunicode\\nclassmethod parse_file(path: Union[str, Path], *, content_type: unicode = None, encoding: unicode = 'utf8', proto: Protocol = None, allow_pickle: bool = False) → Model¶\\nParameters\\npath (Union[str, Path]) – \\ncontent_type (unicode) – \\nencoding (unicode) – \\nproto (Protocol) – \\nallow_pickle (bool) – \\nReturn type\\nModel\\nclassmethod parse_obj(obj: Any) → Model¶\\nParameters\\nobj (Any) – \\nReturn type\\nModel\\nclassmethod parse_raw(b: Union[str, bytes], *, content_type: unicode = None, encoding: unicode = 'utf8', proto: Protocol = None, allow_pickle: bool = False) → Model¶\\nParameters\\nb (Union[str, bytes]) – \\ncontent_type (unicode) – \\nencoding (unicode) – \\nproto (Protocol) – \\nallow_pickle (bool) – \\nReturn type\\nModel\\nclassmethod schema(by_alias: bool = True, ref_template: unicode = '#/definitions/{model}') → DictStrAny¶\\nParameters\\nby_alias (bool) – \\nref_template (unicode) – \\nReturn type\\nDictStrAny\\nclassmethod schema_json(*, by_alias: bool = True, ref_template: unicode = '#/definitions/{model}', **dumps_kwargs: Any) → unicode¶\\nParameters\\nby_alias (bool) – \\nref_template (unicode) – \\ndumps_kwargs (Any) – \\nReturn type\\nunicode\\nclassmethod update_forward_refs(**localns: Any) → None¶\\nTry to update ForwardRefs on fields based on this Model, globalns and localns.\\nParameters\\nlocalns (Any) – \\nReturn type\\nNone\\nclassmethod validate(value: Any) → Model¶\\nParameters\",\n",
       " 'Return type\\nNone\\nclassmethod validate(value: Any) → Model¶\\nParameters\\nvalue (Any) – \\nReturn type\\nModel\\nExamples using VectorstoreIndexCreator¶\\nCreate a vectorstore retriever from the loader\\nRetrievers\\nSet env var OPENAI_API_KEY or load from a .env file:\\napify.md\\napify_dataset.md\\nhugging_face_dataset.md\\nimage_captions.md\\nsee https://python.langchain.com/en/latest/modules/data_connection/getting_started.html for more details']"
      ]
     },
     "execution_count": 77,
     "metadata": {},
     "output_type": "execute_result"
    }
   ],
   "source": [
    "chunks "
   ]
  },
  {
   "cell_type": "code",
   "execution_count": null,
   "metadata": {},
   "outputs": [],
   "source": []
  }
 ],
 "metadata": {
  "kernelspec": {
   "display_name": ".venv",
   "language": "python",
   "name": "python3"
  },
  "language_info": {
   "codemirror_mode": {
    "name": "ipython",
    "version": 3
   },
   "file_extension": ".py",
   "mimetype": "text/x-python",
   "name": "python",
   "nbconvert_exporter": "python",
   "pygments_lexer": "ipython3",
   "version": "3.9.6"
  }
 },
 "nbformat": 4,
 "nbformat_minor": 2
}
