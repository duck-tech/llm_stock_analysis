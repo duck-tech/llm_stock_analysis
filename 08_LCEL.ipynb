{
 "cells": [
  {
   "cell_type": "markdown",
   "metadata": {},
   "source": [
    "# Langchain Expression Language"
   ]
  },
  {
   "cell_type": "code",
   "execution_count": 3,
   "metadata": {},
   "outputs": [],
   "source": [
    "from langchain.llms import Ollama\n",
    "\n",
    "chat = Ollama(model=\"openchat:latest\")"
   ]
  },
  {
   "cell_type": "code",
   "execution_count": 2,
   "metadata": {},
   "outputs": [
    {
     "name": "stderr",
     "output_type": "stream",
     "text": [
      "/Users/babyching/Documents/personal/LLM/langchain_stock_analysis/.venv/lib/python3.9/site-packages/urllib3/__init__.py:35: NotOpenSSLWarning: urllib3 v2 only supports OpenSSL 1.1.1+, currently the 'ssl' module is compiled with 'LibreSSL 2.8.3'. See: https://github.com/urllib3/urllib3/issues/3020\n",
      "  warnings.warn(\n"
     ]
    }
   ],
   "source": [
    "from langchain_core.prompts import PromptTemplate\n",
    "\n",
    "prompt_template = PromptTemplate.from_template(\n",
    "    \"請回答以下題問: \\n{query}\"\n",
    ")"
   ]
  },
  {
   "cell_type": "code",
   "execution_count": 4,
   "metadata": {},
   "outputs": [],
   "source": [
    "from langchain.schema.output_parser import StrOutputParser\n",
    "\n",
    "output_parser = StrOutputParser()"
   ]
  },
  {
   "cell_type": "code",
   "execution_count": 5,
   "metadata": {},
   "outputs": [
    {
     "name": "stdout",
     "output_type": "stream",
     "text": [
      " Generative AI 指的是一種能夠生成新內容或物件的人工智慧。它通常使用深度學習和其他機器學習方法來模型化某個特定的資料分佈，並在未知的數據集上生成新的數據或物件。這些模型可以應用於多種場景，例如圖像生成、自然語言處理（NLP）、音樂和影音設計等。常見的生成模型包括生成對抗網絡（GANs）和變分Autoencoder。\n"
     ]
    }
   ],
   "source": [
    "from langchain.chains import LLMChain \n",
    "chain = LLMChain(\n",
    "    llm=chat,\n",
    "    prompt= prompt_template,\n",
    "    output_parser = output_parser\n",
    ")\n",
    "\n",
    "output = chain.invoke({\"query\": \"Generative AI 是什麼?\"})\n",
    "print(output[\"text\"])"
   ]
  },
  {
   "cell_type": "code",
   "execution_count": 6,
   "metadata": {},
   "outputs": [
    {
     "name": "stdout",
     "output_type": "stream",
     "text": [
      " AI（Artificial Intelligence，人工智能）是一種計算機科學和機器學習的研究分支，旨在模擬人類智力並解決複雜問題。AI 可以識別模式、學習自動化和預測輸入。AI 系統使用大量數據和算法來對待給定的任務進行優化，使其能夠解決問題或完成任務。\n"
     ]
    }
   ],
   "source": [
    "chain = prompt_template | chat | output_parser ## LCEL\n",
    "\n",
    "output = chain.invoke({\"query\": \"AI 是什麼?\"})\n",
    "print(output)"
   ]
  },
  {
   "cell_type": "code",
   "execution_count": null,
   "metadata": {},
   "outputs": [],
   "source": []
  }
 ],
 "metadata": {
  "kernelspec": {
   "display_name": ".venv",
   "language": "python",
   "name": "python3"
  },
  "language_info": {
   "codemirror_mode": {
    "name": "ipython",
    "version": 3
   },
   "file_extension": ".py",
   "mimetype": "text/x-python",
   "name": "python",
   "nbconvert_exporter": "python",
   "pygments_lexer": "ipython3",
   "version": "3.9.6"
  }
 },
 "nbformat": 4,
 "nbformat_minor": 2
}
