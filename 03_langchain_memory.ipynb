{
 "cells": [
  {
   "cell_type": "markdown",
   "metadata": {},
   "source": [
    "## Memory\n",
    "- Conversation Chain\n",
    "- Conversation Buffer Memory"
   ]
  },
  {
   "cell_type": "code",
   "execution_count": 1,
   "metadata": {},
   "outputs": [],
   "source": [
    "import os \n",
    "import logging \n",
    "\n",
    "from dotenv import load_dotenv, find_dotenv\n",
    "\n",
    "load_dotenv(find_dotenv())\n",
    "api_key = os.environ.get('OPENAI_API_KEY')\n",
    "if api_key is None:\n",
    "    raise ValueError(\"The OPENAI_API_KEY environment variable is not set.\")"
   ]
  },
  {
   "cell_type": "code",
   "execution_count": 2,
   "metadata": {},
   "outputs": [
    {
     "name": "stderr",
     "output_type": "stream",
     "text": [
      "/Users/babyching/Documents/personal/LLM/從LangChain接入ChatGPT到製作股票分析AI團隊/.venv/lib/python3.9/site-packages/urllib3/__init__.py:35: NotOpenSSLWarning: urllib3 v2 only supports OpenSSL 1.1.1+, currently the 'ssl' module is compiled with 'LibreSSL 2.8.3'. See: https://github.com/urllib3/urllib3/issues/3020\n",
      "  warnings.warn(\n"
     ]
    }
   ],
   "source": [
    "import os \n",
    "from langchain_openai import ChatOpenAI\n",
    "chat = ChatOpenAI(\n",
    "    openai_api_base=os.environ[\"CHATGPT_API_ENDPOINT\"],\n",
    "    openai_api_key=os.environ[\"OPENAI_API_KEY\"])"
   ]
  },
  {
   "cell_type": "code",
   "execution_count": 3,
   "metadata": {},
   "outputs": [
    {
     "name": "stdout",
     "output_type": "stream",
     "text": [
      "The following is a friendly conversation between a human and an AI. The AI is talkative and provides lots of specific details from its context. If the AI does not know the answer to a question, it truthfully says it does not know.\n",
      "\n",
      "Current conversation:\n",
      "{history}\n",
      "Human: {input}\n",
      "AI:\n"
     ]
    }
   ],
   "source": [
    "from langchain.chains import ConversationChain\n",
    "conversation = ConversationChain(\n",
    "    llm=chat\n",
    ")\n",
    "print(conversation.prompt.template)"
   ]
  },
  {
   "cell_type": "code",
   "execution_count": 4,
   "metadata": {},
   "outputs": [],
   "source": [
    "from langchain.memory import ConversationBufferMemory\n",
    "conversation_buf= ConversationChain(\n",
    "    llm=chat,\n",
    "    memory=ConversationBufferMemory()\n",
    ")"
   ]
  },
  {
   "cell_type": "code",
   "execution_count": 5,
   "metadata": {},
   "outputs": [
    {
     "name": "stdout",
     "output_type": "stream",
     "text": [
      "{'input': '你知道什麼是IG嗎?', 'history': '', 'response': '當然知道！IG是指Instagram的縮寫，是一個社交媒體平台，用戶可以分享照片和視頻，與朋友和關注者互動。IG在全球非常流行，許多名人和品牌都在上面活躍。您有IG帳號嗎？'}\n"
     ]
    }
   ],
   "source": [
    "response = conversation_buf.invoke({\"input\": \"你知道什麼是IG嗎?\"})\n",
    "print(response)"
   ]
  },
  {
   "cell_type": "code",
   "execution_count": 6,
   "metadata": {},
   "outputs": [
    {
     "name": "stdout",
     "output_type": "stream",
     "text": [
      "{'input': '你知道如何在Goolge Chrome上面添加Tab Group嗎？', 'history': 'Human: 你知道什麼是IG嗎?\\nAI: 當然知道！IG是指Instagram的縮寫，是一個社交媒體平台，用戶可以分享照片和視頻，與朋友和關注者互動。IG在全球非常流行，許多名人和品牌都在上面活躍。您有IG帳號嗎？', 'response': '當然知道！在Google Chrome上添加Tab Group非常容易。您只需右鍵點擊標籤欄上的標籤，然後選擇\"將標籤添加到新群組\"。接著您可以為新的Tab Group命名，並將相關的標籤拖曳到群組中。這樣可以更好地組織您的標籤，方便您管理和瀏覽網頁。您可以試試看！'}\n"
     ]
    }
   ],
   "source": [
    "response = conversation_buf.invoke({\"input\": \"你知道如何在Goolge Chrome上面添加Tab Group嗎?\"})\n",
    "print(response)"
   ]
  },
  {
   "cell_type": "code",
   "execution_count": 7,
   "metadata": {},
   "outputs": [
    {
     "name": "stdout",
     "output_type": "stream",
     "text": [
      "Human: 你知道什麼是IG嗎?\n",
      "AI: 當然知道！IG是指Instagram的縮寫，是一個社交媒體平台，用戶可以分享照片和視頻，與朋友和關注者互動。IG在全球非常流行，許多名人和品牌都在上面活躍。您有IG帳號嗎？\n",
      "Human: 你知道如何在Goolge Chrome上面添加Tab Group嗎？\n",
      "AI: 當然知道！在Google Chrome上添加Tab Group非常容易。您只需右鍵點擊標籤欄上的標籤，然後選擇\"將標籤添加到新群組\"。接著您可以為新的Tab Group命名，並將相關的標籤拖曳到群組中。這樣可以更好地組織您的標籤，方便您管理和瀏覽網頁。您可以試試看！\n"
     ]
    }
   ],
   "source": [
    "print(conversation_buf.memory.buffer)"
   ]
  },
  {
   "cell_type": "markdown",
   "metadata": {},
   "source": [
    "### Conversation summary\n",
    "將對話做總結不是把所有內容都記錄下來\n",
    "- 在token上可以減少"
   ]
  },
  {
   "cell_type": "code",
   "execution_count": 10,
   "metadata": {},
   "outputs": [],
   "source": [
    "from langchain.memory import ConversationSummaryMemory\n",
    "conversation_sum = ConversationChain(\n",
    "    llm=chat,\n",
    "    memory = ConversationSummaryMemory(llm=chat)\n",
    ")"
   ]
  },
  {
   "cell_type": "code",
   "execution_count": 12,
   "metadata": {},
   "outputs": [
    {
     "name": "stdout",
     "output_type": "stream",
     "text": [
      "Progressively summarize the lines of conversation provided, adding onto the previous summary returning a new summary.\n",
      "\n",
      "EXAMPLE\n",
      "Current summary:\n",
      "The human asks what the AI thinks of artificial intelligence. The AI thinks artificial intelligence is a force for good.\n",
      "\n",
      "New lines of conversation:\n",
      "Human: Why do you think artificial intelligence is a force for good?\n",
      "AI: Because artificial intelligence will help humans reach their full potential.\n",
      "\n",
      "New summary:\n",
      "The human asks what the AI thinks of artificial intelligence. The AI thinks artificial intelligence is a force for good because it will help humans reach their full potential.\n",
      "END OF EXAMPLE\n",
      "\n",
      "Current summary:\n",
      "{summary}\n",
      "\n",
      "New lines of conversation:\n",
      "{new_lines}\n",
      "\n",
      "New summary:\n"
     ]
    }
   ],
   "source": [
    "print(conversation_sum.memory.prompt.template)"
   ]
  },
  {
   "cell_type": "code",
   "execution_count": 13,
   "metadata": {},
   "outputs": [
    {
     "data": {
      "text/plain": [
       "{'input': {'input:你知道什麼是IG嗎?'},\n",
       " 'history': '',\n",
       " 'response': '知道呀!IG指的是Instagram，一個非常流行的社交媒體應用程式，用戶可以在上面分享照片和影片，和朋友互動，關注自己感興趣的內容。你有IG帳號嗎？'}"
      ]
     },
     "execution_count": 13,
     "metadata": {},
     "output_type": "execute_result"
    }
   ],
   "source": [
    "conversation_sum.invoke({\"input\":\"你知道什麼是IG嗎?\"})"
   ]
  },
  {
   "cell_type": "code",
   "execution_count": 14,
   "metadata": {},
   "outputs": [
    {
     "data": {
      "text/plain": [
       "{'input': '你知道如何在Goolge Chrome上面添加Tab Group嗎?',\n",
       " 'history': \"The human asks if the AI knows what IG is. The AI responds that IG refers to Instagram, a popular social media app where users can share photos and videos, interact with friends, follow content they're interested in. The AI asks if the human has an IG account.\",\n",
       " 'response': '當然知道！在Google Chrome上添加Tab Group非常簡單。您只需右鍵單擊要分組的選項卡，然後選擇“新增到新群組”。接下來，您可以為該組選項卡指定一個名稱和顏色，以便更容易識別和組織它們。您可以在同一群組中添加多個選項卡，並且可以輕鬆地將它們拖放到不同的位置。希望這可以幫到您！'}"
      ]
     },
     "execution_count": 14,
     "metadata": {},
     "output_type": "execute_result"
    }
   ],
   "source": [
    "conversation_sum.invoke({\"input\":\"你知道如何在Goolge Chrome上面添加Tab Group嗎?\"})"
   ]
  },
  {
   "cell_type": "code",
   "execution_count": 15,
   "metadata": {},
   "outputs": [
    {
     "name": "stdout",
     "output_type": "stream",
     "text": [
      "The human asks if the AI knows what IG is. The AI responds that IG refers to Instagram and asks if the human has an IG account. The human then asks the AI if it knows how to add Tab Groups on Google Chrome. The AI explains that adding Tab Groups on Google Chrome is simple and provides step-by-step instructions on how to do so.\n"
     ]
    }
   ],
   "source": [
    "print(conversation_sum.memory.buffer)"
   ]
  },
  {
   "cell_type": "code",
   "execution_count": 16,
   "metadata": {},
   "outputs": [],
   "source": [
    "from langchain.memory import ConversationBufferWindowMemory\n",
    "\n",
    "conversation_buff_win = ConversationChain(\n",
    "    llm = chat,\n",
    "    memory = ConversationBufferWindowMemory(k=1)\n",
    ")"
   ]
  },
  {
   "cell_type": "code",
   "execution_count": 17,
   "metadata": {},
   "outputs": [
    {
     "data": {
      "text/plain": [
       "{'input': '你知道如何在Goolge Chrome上面添加Tab Group嗎?',\n",
       " 'history': '',\n",
       " 'response': '當然！在Google Chrome中，您可以輕鬆地添加Tab Group。只需右鍵點擊任何標籤，然後選擇\"新增標籤組\"，您可以為新組命名並將其他標籤拖放到該組中。這樣您就可以更有效地組織和管理您的瀏覽器標籤了！您可以試試看！'}"
      ]
     },
     "execution_count": 17,
     "metadata": {},
     "output_type": "execute_result"
    }
   ],
   "source": [
    "conversation_buff_win.invoke({\"input\":\"你知道如何在Goolge Chrome上面添加Tab Group嗎?\"})"
   ]
  },
  {
   "cell_type": "code",
   "execution_count": 18,
   "metadata": {},
   "outputs": [
    {
     "data": {
      "text/plain": [
       "{'input': '如何在Youtube實現畫中畫功能嗎？',\n",
       " 'history': 'Human: 你知道如何在Goolge Chrome上面添加Tab Group嗎?\\nAI: 當然！在Google Chrome中，您可以輕鬆地添加Tab Group。只需右鍵點擊任何標籤，然後選擇\"新增標籤組\"，您可以為新組命名並將其他標籤拖放到該組中。這樣您就可以更有效地組織和管理您的瀏覽器標籤了！您可以試試看！',\n",
       " 'response': '畫中畫功能在YouTube上非常方便使用。當您觀看任何視頻時，只需將滑鼠右鍵點擊視頻播放器，然後選擇\"畫中畫\"選項。這樣視頻就會在一個小窗口中繼續播放，您可以在其他標籤或應用程序中繼續瀏覽，同時不會錯過任何內容。該功能非常方便，您可以隨時試試看！'}"
      ]
     },
     "execution_count": 18,
     "metadata": {},
     "output_type": "execute_result"
    }
   ],
   "source": [
    "conversation_buff_win.invoke({\"input\":\"如何在Youtube實現畫中畫功能嗎？\"})"
   ]
  },
  {
   "cell_type": "code",
   "execution_count": 19,
   "metadata": {},
   "outputs": [
    {
     "data": {
      "text/plain": [
       "{'input': '如何做Pizza?',\n",
       " 'history': 'Human: 如何在Youtube實現畫中畫功能嗎？\\nAI: 畫中畫功能在YouTube上非常方便使用。當您觀看任何視頻時，只需將滑鼠右鍵點擊視頻播放器，然後選擇\"畫中畫\"選項。這樣視頻就會在一個小窗口中繼續播放，您可以在其他標籤或應用程序中繼續瀏覽，同時不會錯過任何內容。該功能非常方便，您可以隨時試試看！',\n",
       " 'response': '製作比薩餅非常簡單！首先，您需要準備比薩餅皮。您可以在超市購買現成的比薩餅皮，或者自己動手做。接著，您可以在比薩餅皮上塗抹番茄醬，撒上您喜歡的配料，比如蔬菜、香腸、起司等等。最後，將比薩放入烤箱中烤至表面金黃酥脆即可。這樣一個美味的比薩就完成了！您也可以根據自己的口味和喜好進行變化，製作出不同口味的比薩。祝您做比薩成功！'}"
      ]
     },
     "execution_count": 19,
     "metadata": {},
     "output_type": "execute_result"
    }
   ],
   "source": [
    "conversation_buff_win.invoke({\"input\":\"如何做Pizza?\"})"
   ]
  },
  {
   "cell_type": "code",
   "execution_count": 20,
   "metadata": {},
   "outputs": [
    {
     "name": "stdout",
     "output_type": "stream",
     "text": [
      "Human: 如何做Pizza?\n",
      "AI: 製作比薩餅非常簡單！首先，您需要準備比薩餅皮。您可以在超市購買現成的比薩餅皮，或者自己動手做。接著，您可以在比薩餅皮上塗抹番茄醬，撒上您喜歡的配料，比如蔬菜、香腸、起司等等。最後，將比薩放入烤箱中烤至表面金黃酥脆即可。這樣一個美味的比薩就完成了！您也可以根據自己的口味和喜好進行變化，製作出不同口味的比薩。祝您做比薩成功！\n"
     ]
    }
   ],
   "source": [
    "print(conversation_buff_win.memory.buffer)"
   ]
  },
  {
   "cell_type": "code",
   "execution_count": null,
   "metadata": {},
   "outputs": [],
   "source": []
  }
 ],
 "metadata": {
  "kernelspec": {
   "display_name": ".venv",
   "language": "python",
   "name": "python3"
  },
  "language_info": {
   "codemirror_mode": {
    "name": "ipython",
    "version": 3
   },
   "file_extension": ".py",
   "mimetype": "text/x-python",
   "name": "python",
   "nbconvert_exporter": "python",
   "pygments_lexer": "ipython3",
   "version": "3.9.6"
  }
 },
 "nbformat": 4,
 "nbformat_minor": 2
}
