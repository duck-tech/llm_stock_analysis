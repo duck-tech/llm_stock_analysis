{
 "cells": [
  {
   "cell_type": "markdown",
   "metadata": {},
   "source": [
    "# FAISS\n",
    "- Meta 的開源向量數據庫"
   ]
  },
  {
   "cell_type": "code",
   "execution_count": 3,
   "metadata": {},
   "outputs": [
    {
     "data": {
      "text/plain": [
       "True"
      ]
     },
     "execution_count": 3,
     "metadata": {},
     "output_type": "execute_result"
    }
   ],
   "source": [
    "import os \n",
    "import logging \n",
    "\n",
    "from dotenv import load_dotenv, find_dotenv\n",
    "\n",
    "load_dotenv(find_dotenv())"
   ]
  },
  {
   "cell_type": "code",
   "execution_count": 4,
   "metadata": {},
   "outputs": [
    {
     "name": "stderr",
     "output_type": "stream",
     "text": [
      "/Users/babyching/Documents/personal/LLM/langchain_stock_analysis/.venv/lib/python3.9/site-packages/urllib3/__init__.py:35: NotOpenSSLWarning: urllib3 v2 only supports OpenSSL 1.1.1+, currently the 'ssl' module is compiled with 'LibreSSL 2.8.3'. See: https://github.com/urllib3/urllib3/issues/3020\n",
      "  warnings.warn(\n"
     ]
    }
   ],
   "source": [
    "from langchain.document_loaders import PyPDFLoader\n",
    "loaders = [\n",
    "    PyPDFLoader(\"docs/01.pdf\"),\n",
    "    PyPDFLoader(\"docs/02.pdf\"),\n",
    "    PyPDFLoader(\"docs/03.pdf\"),\n",
    "    PyPDFLoader(\"docs/04.pdf\"),\n",
    "]\n",
    "\n",
    "docs = []\n",
    "\n",
    "for loader in loaders:\n",
    "    docs.extend(loader.load())\n",
    "\n",
    "from langchain.text_splitter import RecursiveCharacterTextSplitter\n",
    "\n",
    "text_splitter = RecursiveCharacterTextSplitter(\n",
    "    chunk_size = 1000,\n",
    "    chunk_overlap=100,\n",
    "    length_function = len,\n",
    "    separators=[\"\\n\\n\", '\\n', ' ', '']\n",
    "    )\n",
    "\n",
    "chunks = text_splitter.split_documents(docs)"
   ]
  },
  {
   "cell_type": "code",
   "execution_count": 5,
   "metadata": {},
   "outputs": [],
   "source": [
    "from langchain_openai import OpenAIEmbeddings\n",
    "import os\n",
    "embeddings = OpenAIEmbeddings(\n",
    "    base_url = os.environ[\"EMBEDDINGS_BASE_URL\"]\n",
    ")"
   ]
  },
  {
   "cell_type": "code",
   "execution_count": 6,
   "metadata": {},
   "outputs": [],
   "source": [
    "from langchain.llms import Ollama\n",
    "\n",
    "chat = Ollama(model=\"openchat:latest\")"
   ]
  },
  {
   "cell_type": "code",
   "execution_count": 7,
   "metadata": {},
   "outputs": [],
   "source": [
    "from langchain.vectorstores import FAISS\n"
   ]
  },
  {
   "cell_type": "code",
   "execution_count": 8,
   "metadata": {},
   "outputs": [],
   "source": [
    "vectordb = FAISS.from_documents(docs, embeddings)"
   ]
  },
  {
   "cell_type": "code",
   "execution_count": 9,
   "metadata": {},
   "outputs": [
    {
     "data": {
      "text/plain": [
       "'1110\\n小店美食\\n13  添好運點心專門店\\n全球最便宜的米芝蓮星級餐廳之一，雖然在台\\n灣已經開了多間分店，但要品嚐正港風味的點\\n心，還是要到本地的街坊小店。菜單上的選擇\\n或許不如茶樓多，但價格親民，招牌點心酥皮\\n焗叉燒包，保證讓人一試愛上。\\n地址：深水埗福榮街9至11號 \\n電話：+852 2788 1226\\n網址：www.timhowan.com.hk\\n14  新香園\\n來到這家老字號茶餐廳，必吃'"
      ]
     },
     "execution_count": 9,
     "metadata": {},
     "output_type": "execute_result"
    }
   ],
   "source": [
    "query = \"在香港有什麼美味的食物? 如果有請給出該店舖的地址\"\n",
    "\n",
    "docs = vectordb.similarity_search(query)\n",
    "docs[0].page_content[:200]"
   ]
  },
  {
   "cell_type": "markdown",
   "metadata": {},
   "source": [
    "## RetrivalQA"
   ]
  },
  {
   "cell_type": "code",
   "execution_count": 10,
   "metadata": {},
   "outputs": [],
   "source": [
    "from langchain.chains import RetrievalQA # 檢索+回答問題\n",
    "retriever = vectordb.as_retriever()\n",
    "model = RetrievalQA.from_chain_type(\n",
    "    retriever = retriever,\n",
    "    llm = chat,\n",
    "    chain_type = \"stuff\", # 表示檢索到的文檔,直接讓llm去回答問題\n",
    "    verbose= True\n",
    ")"
   ]
  },
  {
   "cell_type": "code",
   "execution_count": 11,
   "metadata": {},
   "outputs": [
    {
     "data": {
      "text/plain": [
       "RetrievalQA(verbose=True, combine_documents_chain=StuffDocumentsChain(llm_chain=LLMChain(prompt=PromptTemplate(input_variables=['context', 'question'], template=\"Use the following pieces of context to answer the question at the end. If you don't know the answer, just say that you don't know, don't try to make up an answer.\\n\\n{context}\\n\\nQuestion: {question}\\nHelpful Answer:\"), llm=Ollama(model='openchat:latest')), document_variable_name='context'), retriever=VectorStoreRetriever(tags=['FAISS', 'OpenAIEmbeddings'], vectorstore=<langchain_community.vectorstores.faiss.FAISS object at 0x128682dc0>))"
      ]
     },
     "execution_count": 11,
     "metadata": {},
     "output_type": "execute_result"
    }
   ],
   "source": [
    "model"
   ]
  },
  {
   "cell_type": "code",
   "execution_count": 12,
   "metadata": {},
   "outputs": [
    {
     "name": "stderr",
     "output_type": "stream",
     "text": [
      "/Users/babyching/Documents/personal/LLM/langchain_stock_analysis/.venv/lib/python3.9/site-packages/langchain_core/_api/deprecation.py:119: LangChainDeprecationWarning: The method `Chain.__call__` was deprecated in langchain 0.1.0 and will be removed in 0.2.0. Use invoke instead.\n",
      "  warn_deprecated(\n"
     ]
    },
    {
     "name": "stdout",
     "output_type": "stream",
     "text": [
      "\n",
      "\n",
      "\u001b[1m> Entering new RetrievalQA chain...\u001b[0m\n",
      "\n",
      "\u001b[1m> Finished chain.\u001b[0m\n",
      "回答:  以下是一些在香港吃得到的美味食物：\n",
      "\n",
      "1. 蘇記（Siu Kee）：逐漸式微的餐廳，主打經典在地美食如法式吐司、豬排煎蛋麵和港式奶茶等。\n",
      "   地址：深水埗耀東街15至16號\n",
      "   電話：+852 2779 1182\n",
      "\n",
      "2. 文記車仔麵（Wun Kwong Cheung Fun）：傳統香港車仔麵，有三家店設在同一條街。提供各式麵食、湯頭和配料。\n",
      "   地址：深水埗福榮街109、111-117E、121及123C號\n",
      "   電話：+852 9059 5104\n",
      "\n",
      "3. 飛鷹餐廳（Fung Shing Restaurant）：豪華的港式牛排館，營造出濃濃的復古情調。除了鐵板牛排外，羅宋湯、德國豬腳等也是不錯的選擇。\n",
      "   地址：深水埗荔枝角道256號\n",
      "   電話：+852 2395 2576\n",
      "\n",
      "4. 綠林甜品（Green Line Desserts）：出品的甜點有包括紅豆、堅果和黑芝麻等熬煮的傳統甜湯，以及豆腐布丁、榴槤煎餅等創新甜點。\n",
      "   地址：深水埗元州街77至79號\n",
      "   電話：+852 2361 4205\n"
     ]
    }
   ],
   "source": [
    "query = \"在香港有什麼美味的食物? 如果有請給出該店舖的地址\"\n",
    "\n",
    "response = model(\n",
    "    {\"query\":query}\n",
    ")\n",
    "print(\"回答:\", response['result'])"
   ]
  },
  {
   "cell_type": "markdown",
   "metadata": {},
   "source": [
    "## 如何保存與加載 FAISS"
   ]
  },
  {
   "cell_type": "code",
   "execution_count": 13,
   "metadata": {},
   "outputs": [],
   "source": [
    "!rm -rf ./db"
   ]
  },
  {
   "cell_type": "code",
   "execution_count": 16,
   "metadata": {},
   "outputs": [],
   "source": [
    "persist_directory = \"./db\"\n",
    "\n",
    "vectordb.save_local(persist_directory)\n",
    "\n",
    "new_db = FAISS.load_local(\n",
    "    folder_path = persist_directory,\n",
    "    embeddings = embeddings,\n",
    "    allow_dangerous_deserialization = True\n",
    ")"
   ]
  },
  {
   "cell_type": "markdown",
   "metadata": {},
   "source": [
    "### 查看VectorDB的文黨\n"
   ]
  },
  {
   "cell_type": "code",
   "execution_count": 17,
   "metadata": {},
   "outputs": [],
   "source": [
    "import pandas as pd "
   ]
  },
  {
   "cell_type": "code",
   "execution_count": 41,
   "metadata": {},
   "outputs": [],
   "source": [
    "def store_to_df(vectordb):\n",
    "   v_dict = vectordb.docstore._dict\n",
    "   data_rows =[]\n",
    "   for k in v_dict.keys():\n",
    "      doc_name = v_dict[k].metadata[\"source\"].split(\"/\")[-1]\n",
    "      page_number = v_dict[k].metadata[\"page\"] +1\n",
    "      content = v_dict[k].page_content\n",
    "      data_rows.append({\"chunk_id\": k, \"doc_name\":doc_name, \"page_number\":page_number, \"content\":content})\n",
    "   vector_df = pd.DataFrame(data_rows)\n",
    "   return vector_df \n",
    "\n",
    "def show_vectorStore(vectordb):\n",
    "    vector_df = store_to_df(vectordb)\n",
    "    display(vector_df)\n"
   ]
  },
  {
   "cell_type": "code",
   "execution_count": 42,
   "metadata": {},
   "outputs": [
    {
     "data": {
      "text/html": [
       "<div>\n",
       "<style scoped>\n",
       "    .dataframe tbody tr th:only-of-type {\n",
       "        vertical-align: middle;\n",
       "    }\n",
       "\n",
       "    .dataframe tbody tr th {\n",
       "        vertical-align: top;\n",
       "    }\n",
       "\n",
       "    .dataframe thead th {\n",
       "        text-align: right;\n",
       "    }\n",
       "</style>\n",
       "<table border=\"1\" class=\"dataframe\">\n",
       "  <thead>\n",
       "    <tr style=\"text-align: right;\">\n",
       "      <th></th>\n",
       "      <th>chunk_id</th>\n",
       "      <th>doc_name</th>\n",
       "      <th>page_number</th>\n",
       "      <th>content</th>\n",
       "    </tr>\n",
       "  </thead>\n",
       "  <tbody>\n",
       "    <tr>\n",
       "      <th>0</th>\n",
       "      <td>05a6ae78-1dbb-497f-986b-79d6af54a636</td>\n",
       "      <td>01.pdf</td>\n",
       "      <td>1</td>\n",
       "      <td>衝\\n一\\n波\\n$\u0014\u0019\u0012\u000e$07&amp;3\u000e\u0013\u0011\u0013\u0015\u000fJOEE\u0001\u0001\u0001\u0015$\u0014\u0019\u0012\u000e$07&amp;3\u000e\u0013\u0011...</td>\n",
       "    </tr>\n",
       "    <tr>\n",
       "      <th>1</th>\n",
       "      <td>59f451a6-656d-435e-bfd4-f0e8a7d976f2</td>\n",
       "      <td>01.pdf</td>\n",
       "      <td>2</td>\n",
       "      <td>網路報導專區\\n下載PDF手冊\\n閱讀\\n動態電子書\\n23　中　環\\t 蘭桂坊Bar Ho...</td>\n",
       "    </tr>\n",
       "    <tr>\n",
       "      <th>2</th>\n",
       "      <td>73cc4762-340f-4793-9359-431bbd90d75b</td>\n",
       "      <td>01.pdf</td>\n",
       "      <td>3</td>\n",
       "      <td>04\\n地址：香港九龍太子砵蘭街418號地下 電話：＋852-2392-9283\\n營業時間...</td>\n",
       "    </tr>\n",
       "    <tr>\n",
       "      <th>3</th>\n",
       "      <td>267b4fe3-fb82-4125-beb2-520cad6d7340</td>\n",
       "      <td>01.pdf</td>\n",
       "      <td>4</td>\n",
       "      <td>06\\n地址：香港九龍旺角通菜街1A-1L 威達 Deli2商業大廈1字樓 B 舖 電話：＋...</td>\n",
       "    </tr>\n",
       "    <tr>\n",
       "      <th>4</th>\n",
       "      <td>27cd5652-bc39-4f63-b6d7-1ce5c96eb05f</td>\n",
       "      <td>01.pdf</td>\n",
       "      <td>5</td>\n",
       "      <td>08\\n地址：香港銅鑼灣謝斐道477-481號肇明大廈地下及1樓 A 室 電話：＋852-2...</td>\n",
       "    </tr>\n",
       "    <tr>\n",
       "      <th>...</th>\n",
       "      <td>...</td>\n",
       "      <td>...</td>\n",
       "      <td>...</td>\n",
       "      <td>...</td>\n",
       "    </tr>\n",
       "    <tr>\n",
       "      <th>83</th>\n",
       "      <td>5495ed0c-13c0-4234-9b37-4b5a556a9a8a</td>\n",
       "      <td>04.pdf</td>\n",
       "      <td>25</td>\n",
       "      <td>4746\\n添好運點心專門店 \\np.11\\n寶華扎作 \\np.34\\n汝州街 \\n（珠仔街...</td>\n",
       "    </tr>\n",
       "    <tr>\n",
       "      <th>84</th>\n",
       "      <td>3da10a70-4bfe-46f2-8e5e-c246f318885b</td>\n",
       "      <td>04.pdf</td>\n",
       "      <td>26</td>\n",
       "      <td>4948\\n 4948\\nDoughnut  \\np.9\\n福榮街 \\np.31\\n合益泰小...</td>\n",
       "    </tr>\n",
       "    <tr>\n",
       "      <th>85</th>\n",
       "      <td>14df7c3e-a29c-4779-a0ce-b3d6e1e47550</td>\n",
       "      <td>04.pdf</td>\n",
       "      <td>27</td>\n",
       "      <td>5150\\n福榮街 \\np.31\\n公和荳品廠 \\np.10\\n1\\n2\\n3\\n汝州街 \\...</td>\n",
       "    </tr>\n",
       "    <tr>\n",
       "      <th>86</th>\n",
       "      <td>dc3708bd-475d-453c-93d9-f6b8f5469de7</td>\n",
       "      <td>04.pdf</td>\n",
       "      <td>28</td>\n",
       "      <td>香港旅遊發展局旅客服務\\nHONG KONG TRAVEL BUDDY \\n歡迎旅客掃描QR...</td>\n",
       "    </tr>\n",
       "    <tr>\n",
       "      <th>87</th>\n",
       "      <td>82e51b92-1eeb-41a6-9c48-25e08031d113</td>\n",
       "      <td>04.pdf</td>\n",
       "      <td>29</td>\n",
       "      <td></td>\n",
       "    </tr>\n",
       "  </tbody>\n",
       "</table>\n",
       "<p>88 rows × 4 columns</p>\n",
       "</div>"
      ],
      "text/plain": [
       "                                chunk_id doc_name  page_number  \\\n",
       "0   05a6ae78-1dbb-497f-986b-79d6af54a636   01.pdf            1   \n",
       "1   59f451a6-656d-435e-bfd4-f0e8a7d976f2   01.pdf            2   \n",
       "2   73cc4762-340f-4793-9359-431bbd90d75b   01.pdf            3   \n",
       "3   267b4fe3-fb82-4125-beb2-520cad6d7340   01.pdf            4   \n",
       "4   27cd5652-bc39-4f63-b6d7-1ce5c96eb05f   01.pdf            5   \n",
       "..                                   ...      ...          ...   \n",
       "83  5495ed0c-13c0-4234-9b37-4b5a556a9a8a   04.pdf           25   \n",
       "84  3da10a70-4bfe-46f2-8e5e-c246f318885b   04.pdf           26   \n",
       "85  14df7c3e-a29c-4779-a0ce-b3d6e1e47550   04.pdf           27   \n",
       "86  dc3708bd-475d-453c-93d9-f6b8f5469de7   04.pdf           28   \n",
       "87  82e51b92-1eeb-41a6-9c48-25e08031d113   04.pdf           29   \n",
       "\n",
       "                                              content  \n",
       "0   衝\\n一\\n波\\n$\u0014\u0019\u0012\u000e$07&3\u000e\u0013\u0011\u0013\u0015\u000fJOEE\u0001\u0001\u0001\u0015$\u0014\u0019\u0012\u000e$07&3\u000e\u0013\u0011...  \n",
       "1   網路報導專區\\n下載PDF手冊\\n閱讀\\n動態電子書\\n23　中　環\\t 蘭桂坊Bar Ho...  \n",
       "2   04\\n地址：香港九龍太子砵蘭街418號地下 電話：＋852-2392-9283\\n營業時間...  \n",
       "3   06\\n地址：香港九龍旺角通菜街1A-1L 威達 Deli2商業大廈1字樓 B 舖 電話：＋...  \n",
       "4   08\\n地址：香港銅鑼灣謝斐道477-481號肇明大廈地下及1樓 A 室 電話：＋852-2...  \n",
       "..                                                ...  \n",
       "83  4746\\n添好運點心專門店 \\np.11\\n寶華扎作 \\np.34\\n汝州街 \\n（珠仔街...  \n",
       "84  4948\\n 4948\\nDoughnut  \\np.9\\n福榮街 \\np.31\\n合益泰小...  \n",
       "85  5150\\n福榮街 \\np.31\\n公和荳品廠 \\np.10\\n1\\n2\\n3\\n汝州街 \\...  \n",
       "86  香港旅遊發展局旅客服務\\nHONG KONG TRAVEL BUDDY \\n歡迎旅客掃描QR...  \n",
       "87                                                     \n",
       "\n",
       "[88 rows x 4 columns]"
      ]
     },
     "metadata": {},
     "output_type": "display_data"
    }
   ],
   "source": [
    "show_vectorStore(new_db)"
   ]
  },
  {
   "cell_type": "markdown",
   "metadata": {},
   "source": [
    "### 添加和刪除VectorDB中的文檔"
   ]
  },
  {
   "cell_type": "code",
   "execution_count": 44,
   "metadata": {},
   "outputs": [],
   "source": [
    "# 刪除對應的PDF的文檔\n",
    "def delete_document(store, document_name):\n",
    "    vector_df = store_to_df(store)\n",
    "    chunks_list = vector_df.loc[vector_df[\"doc_name\"] == document_name][\"chunk_id\"].tolist()\n",
    "    store.delete(ids=chunks_list)\n",
    "\n",
    "# 更新VectorDB, 同時更新RetrievalQA\n",
    "def refresh_model(new_store):\n",
    "    retriever = new_store.as_retriever()\n",
    "    model = RetrievalQA.from_chain_type(\n",
    "    retriever = retriever,\n",
    "    llm = chat,\n",
    "    chain_type = \"stuff\", # 表示檢索到的文檔,直接讓llm去回答問題\n",
    "    verbose= True\n",
    ")\n",
    "    return model "
   ]
  },
  {
   "cell_type": "code",
   "execution_count": 51,
   "metadata": {},
   "outputs": [],
   "source": [
    "# delete_document(new_db, '02.pdf')\n",
    "# delete_document(new_db, '01.pdf')\n",
    "delete_document(new_db, '03.pdf')\n",
    "delete_document(new_db, '04.pdf')"
   ]
  },
  {
   "cell_type": "code",
   "execution_count": 52,
   "metadata": {},
   "outputs": [
    {
     "data": {
      "text/html": [
       "<div>\n",
       "<style scoped>\n",
       "    .dataframe tbody tr th:only-of-type {\n",
       "        vertical-align: middle;\n",
       "    }\n",
       "\n",
       "    .dataframe tbody tr th {\n",
       "        vertical-align: top;\n",
       "    }\n",
       "\n",
       "    .dataframe thead th {\n",
       "        text-align: right;\n",
       "    }\n",
       "</style>\n",
       "<table border=\"1\" class=\"dataframe\">\n",
       "  <thead>\n",
       "    <tr style=\"text-align: right;\">\n",
       "      <th></th>\n",
       "    </tr>\n",
       "  </thead>\n",
       "  <tbody>\n",
       "  </tbody>\n",
       "</table>\n",
       "</div>"
      ],
      "text/plain": [
       "Empty DataFrame\n",
       "Columns: []\n",
       "Index: []"
      ]
     },
     "metadata": {},
     "output_type": "display_data"
    }
   ],
   "source": [
    "show_vectorStore(new_db)"
   ]
  },
  {
   "cell_type": "code",
   "execution_count": 53,
   "metadata": {},
   "outputs": [
    {
     "name": "stdout",
     "output_type": "stream",
     "text": [
      "\n",
      "\n",
      "\u001b[1m> Entering new RetrievalQA chain...\u001b[0m\n",
      "\n",
      "\u001b[1m> Finished chain.\u001b[0m\n",
      "回答:  我不知道泰昌餅家的地址。\n"
     ]
    }
   ],
   "source": [
    "model = refresh_model(new_db)\n",
    "\n",
    "query = \"泰昌餅家的地址是哪裡? \"\n",
    "\n",
    "response = model(\n",
    "    {\"query\":query}\n",
    ")\n",
    "print(\"回答:\", response['result'])"
   ]
  },
  {
   "cell_type": "code",
   "execution_count": 54,
   "metadata": {},
   "outputs": [],
   "source": [
    "## 添加PDF文檔\n",
    "from langchain.document_loaders import PyPDFLoader\n",
    "from langchain.text_splitter import RecursiveCharacterTextSplitter\n",
    "def add_vectorStore(store, directory):\n",
    "    loader = PyPDFLoader(directory)\n",
    "\n",
    "    doc = loader.load()\n",
    "\n",
    "    text_splitter = RecursiveCharacterTextSplitter(\n",
    "        chunk_size = 1000,\n",
    "        chunk_overlap=100,\n",
    "        length_function = len,\n",
    "        separators=[\"\\n\\n\", '\\n', ' ', '']\n",
    "        )\n",
    "\n",
    "    chunks = text_splitter.split_documents(doc)\n",
    "\n",
    "    extension = FAISS.from_documents(chunks, embeddings)\n",
    "\n",
    "    store.merge_from(extension)\n"
   ]
  },
  {
   "cell_type": "code",
   "execution_count": 55,
   "metadata": {},
   "outputs": [],
   "source": [
    "add_vectorStore(new_db, \"docs/05.pdf\")"
   ]
  },
  {
   "cell_type": "code",
   "execution_count": 57,
   "metadata": {},
   "outputs": [],
   "source": [
    "# show_vectorStore(new_db)"
   ]
  },
  {
   "cell_type": "code",
   "execution_count": 59,
   "metadata": {},
   "outputs": [
    {
     "name": "stdout",
     "output_type": "stream",
     "text": [
      "\n",
      "\n",
      "\u001b[1m> Entering new RetrievalQA chain...\u001b[0m\n",
      "\n",
      "\u001b[1m> Finished chain.\u001b[0m\n",
      "回答:  和昌飯店是一家著名的粵質餐廳，有許多美味菜品可選。它的特色菜單包括各種煎餘、燉湯、炒菜等，都充滿本地風味。和昌飯店地址在香港灣仔軒尼詩道48-62號上海實業大廈地下及地庫（港鐵灣仔站B1出口步行3分鐘），電話號碼是+852-2834-9963。\n"
     ]
    }
   ],
   "source": [
    "model = refresh_model(new_db)\n",
    "\n",
    "query = \"和昌飯店有什麼好吃的? 和昌飯店地址和電話是什麼? \"\n",
    "\n",
    "response = model(\n",
    "    {\"query\":query}\n",
    ")\n",
    "print(\"回答:\", response['result'])"
   ]
  },
  {
   "cell_type": "code",
   "execution_count": null,
   "metadata": {},
   "outputs": [],
   "source": []
  }
 ],
 "metadata": {
  "kernelspec": {
   "display_name": ".venv",
   "language": "python",
   "name": "python3"
  },
  "language_info": {
   "codemirror_mode": {
    "name": "ipython",
    "version": 3
   },
   "file_extension": ".py",
   "mimetype": "text/x-python",
   "name": "python",
   "nbconvert_exporter": "python",
   "pygments_lexer": "ipython3",
   "version": "3.9.6"
  }
 },
 "nbformat": 4,
 "nbformat_minor": 2
}
